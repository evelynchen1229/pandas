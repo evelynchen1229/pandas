{
 "cells": [
  {
   "cell_type": "markdown",
   "id": "e6dee88b-fb26-4957-afd3-b8a3ee4a0b48",
   "metadata": {
    "tags": []
   },
   "source": [
    "## Experiment part"
   ]
  },
  {
   "cell_type": "code",
   "execution_count": 4,
   "id": "ee45bb9a-5cb0-446a-84a9-0fdac93025d0",
   "metadata": {},
   "outputs": [],
   "source": [
    "# import modules\n",
    "import pandas as pd\n",
    "from bs4 import BeautifulSoup\n",
    "import requests\n",
    "import urllib.request\n"
   ]
  },
  {
   "cell_type": "code",
   "execution_count": 5,
   "id": "a389fab5-2501-4360-8512-32e7b081b6ee",
   "metadata": {},
   "outputs": [],
   "source": [
    "sraNumber = '509760' #DAC BEACHCROFT CLAIMS LIMITED\n",
    "org_names = []\n",
    "sra_regs = []\n",
    "num_people_org = []\n",
    "fee_earner = []\n",
    "non_fee_earner = []\n",
    "no_fe = []\n",
    "no_non_fe = []"
   ]
  },
  {
   "cell_type": "code",
   "execution_count": 6,
   "id": "6afb2bad-9574-4baf-8224-052b180d1e90",
   "metadata": {},
   "outputs": [
    {
     "name": "stdout",
     "output_type": "stream",
     "text": [
      "DAC BEACHCROFT CLAIMS LIMITED\n"
     ]
    }
   ],
   "source": [
    "with requests.Session() as s:\n",
    "    home_page = s.get(f'https://www.sra.org.uk/consumers/register/organisation/?sraNumber={sraNumber}')\n",
    "    home_soup = BeautifulSoup(home_page.content)\n",
    "   \n",
    "    #get org name, whether it's sra regulated, and number of people\n",
    "    org_name = str(home_soup.find('h1', {'class': 'reg__detail__h1'}).string)\n",
    "    #print(org_name)\n",
    "    org_names.append(org_name)\n",
    "    sra_reg = str(home_soup.find('span', {'class': 'GlossaryLink'}).string)\n",
    "    sra_regs.append(sra_reg)\n",
    "    num_people = str(home_soup.find('div',{'id':'headingPracticePeople'}).find('span').string)[1:-1]\n",
    "    num_people_org.append(num_people)\n",
    "    #print(num_people)\n",
    "    \n",
    "    #check whether all the people are loaded in one page\n",
    "    show_more = home_soup.find('div', {'class': 'lookup__search__result__listctrl__btn'})\n",
    "    if show_more == None:\n",
    "        table = home_soup.find('ul', {'class': 'lookup__person__result__list'})\n",
    "        table_rows = table.findAll('li')\n",
    "        for tr in table_rows:\n",
    "            role=str(tr.find('p').string)\n",
    "            if role == 'SRA-regulated solicitor':\n",
    "                fee_earner.append(role)\n",
    "            else:\n",
    "                non_fee_earner.append(role)\n",
    "    else:\n",
    "        people_page = s.get(f'https://www.sra.org.uk/consumers/register/organisation/GetPeople/?numberOfResults={num_people}')\n",
    "        people_soup = BeautifulSoup(people_page.content)\n",
    "        table = people_soup.find('ul', {'class': 'lookup__person__result__list'})\n",
    "        table_rows = table.findAll('li')\n",
    "        for tr in table_rows:\n",
    "            role=str(tr.find('p').string).strip()\n",
    "            if role == 'SRA-regulated solicitor':\n",
    "                fee_earner.append(role)\n",
    "            else:\n",
    "                non_fee_earner.append(role)\n",
    "    \n",
    "    no_fe.append(len(fee_earner))\n",
    "    no_non_fe.append(len(non_fee_earner))\n",
    "\n",
    "    s.close()"
   ]
  },
  {
   "cell_type": "code",
   "execution_count": 7,
   "id": "6ca20df2-3a52-4d54-a855-2a6893d955d1",
   "metadata": {},
   "outputs": [
    {
     "data": {
      "text/html": [
       "<div>\n",
       "<style scoped>\n",
       "    .dataframe tbody tr th:only-of-type {\n",
       "        vertical-align: middle;\n",
       "    }\n",
       "\n",
       "    .dataframe tbody tr th {\n",
       "        vertical-align: top;\n",
       "    }\n",
       "\n",
       "    .dataframe thead th {\n",
       "        text-align: right;\n",
       "    }\n",
       "</style>\n",
       "<table border=\"1\" class=\"dataframe\">\n",
       "  <thead>\n",
       "    <tr style=\"text-align: right;\">\n",
       "      <th></th>\n",
       "      <th>organisation</th>\n",
       "      <th>sra_regulation</th>\n",
       "      <th>num_people</th>\n",
       "      <th>num_fee_earners</th>\n",
       "      <th>num_non_fee_earners</th>\n",
       "    </tr>\n",
       "  </thead>\n",
       "  <tbody>\n",
       "    <tr>\n",
       "      <th>0</th>\n",
       "      <td>DAC BEACHCROFT CLAIMS LIMITED</td>\n",
       "      <td>SRA-regulated firm</td>\n",
       "      <td>364</td>\n",
       "      <td>362</td>\n",
       "      <td>2</td>\n",
       "    </tr>\n",
       "  </tbody>\n",
       "</table>\n",
       "</div>"
      ],
      "text/plain": [
       "                    organisation      sra_regulation num_people  \\\n",
       "0  DAC BEACHCROFT CLAIMS LIMITED  SRA-regulated firm        364   \n",
       "\n",
       "   num_fee_earners  num_non_fee_earners  \n",
       "0              362                    2  "
      ]
     },
     "execution_count": 7,
     "metadata": {},
     "output_type": "execute_result"
    }
   ],
   "source": [
    "data =  {'organisation':org_names,\n",
    "        'sra_regulation':sra_regs,\n",
    "        'num_people':num_people_org,\n",
    "        'num_fee_earners':no_fe,\n",
    "        'num_non_fee_earners':no_non_fe}\n",
    "data\n",
    "df = pd.DataFrame(data)\n",
    "df"
   ]
  },
  {
   "cell_type": "markdown",
   "id": "08158b45-62f6-4388-9269-87db4807a2a5",
   "metadata": {},
   "source": [
    "## Full Code version by peer"
   ]
  },
  {
   "cell_type": "code",
   "execution_count": 1,
   "id": "b395101f-29a8-427e-88f1-841d62c1fa65",
   "metadata": {},
   "outputs": [],
   "source": [
    "class OrganisationNotFound(Exception):\n",
    "    pass"
   ]
  },
  {
   "cell_type": "code",
   "execution_count": 2,
   "id": "e0b11375-14fe-467e-ad61-f1ca642fc167",
   "metadata": {},
   "outputs": [],
   "source": [
    "SRA_NUMBERS = []\n",
    "ORG_NAMES = []\n",
    "SRA_REGS = []\n",
    "NUM_PEOPLE_ORG = []\n",
    "NUM_FEE_EARNERS = []\n",
    "NUM_NON_FEE_EARNERS = []"
   ]
  },
  {
   "cell_type": "code",
   "execution_count": 5,
   "id": "af41574f-d9d4-4fb5-b7dc-f5afbc985e0a",
   "metadata": {},
   "outputs": [
    {
     "data": {
      "text/plain": [
       "sra_numbers            float64\n",
       "organisation           float64\n",
       "sra_regulation         float64\n",
       "num_people               int32\n",
       "num_fee_earners          int32\n",
       "num_non_fee_earners      int32\n",
       "dtype: object"
      ]
     },
     "execution_count": 5,
     "metadata": {},
     "output_type": "execute_result"
    }
   ],
   "source": [
    "data =  {\n",
    "    'sra_numbers': SRA_NUMBERS,\n",
    "    'organisation': ORG_NAMES,\n",
    "    'sra_regulation': SRA_REGS,\n",
    "    'num_people': NUM_PEOPLE_ORG,\n",
    "    'num_fee_earners': NUM_FEE_EARNERS,\n",
    "    'num_non_fee_earners': NUM_NON_FEE_EARNERS\n",
    "}\n",
    "df = pd.DataFrame(data)\n",
    "df.astype({'num_people': int, 'num_fee_earners': int, 'num_non_fee_earners': int}).dtypes"
   ]
  },
  {
   "cell_type": "code",
   "execution_count": 6,
   "id": "bd27996d-54cb-48ea-a454-8a89e8f8653e",
   "metadata": {},
   "outputs": [],
   "source": [
    "def count_solicitors(table_rows):\n",
    "    fee_earners = 0\n",
    "    non_fee_earners = 0\n",
    "    for tr in table_rows:\n",
    "        role = tr.find('p').text.strip()\n",
    "        if role == 'SRA-regulated solicitor':\n",
    "            fee_earners += 1\n",
    "        else:\n",
    "            non_fee_earners += 1\n",
    "    \n",
    "    return fee_earners, non_fee_earners\n",
    "\n",
    "def get_page_data(soup, tag, class_=None, id_=None):\n",
    "    selector = 'class' if class_ is not None else 'id'\n",
    "    return str(soup.find(tag, {selector: class_}).string)\n",
    "\n",
    "def get_data_by_sra(df, sra_number):\n",
    "    \"\"\"\n",
    "    Get the data required to add a new row of data to the dataframe.\n",
    "    \n",
    "    Parameters\n",
    "    ----------\n",
    "    sra_number: str or int\n",
    "        SRA Number to lookup\n",
    "    \"\"\"\n",
    "    with requests.Session() as s:\n",
    "        home_page = s.get(f'https://www.sra.org.uk/consumers/register/organisation/?sraNumber={sra_number}', allow_redirects=True)\n",
    "        home_soup = BeautifulSoup(home_page.content)\n",
    "        \n",
    "        page_title = home_soup.find('title')\n",
    "        if page_title.get_text().startswith(\"SRA | 500 Internal Server Error\"):\n",
    "            raise OrganisationNotFound(f\"Organisation with SRA Number {sra_number} does not exist.\")\n",
    "        # get org name, whether it's sra regulated, and number of people\n",
    "        org_name = get_page_data(home_soup, 'h1', class_='reg__detail__h1')\n",
    "        sra_reg = get_page_data(home_soup, 'span', class_='GlossaryLink')\n",
    "        num_people = str(home_soup.find('div',{'id':'headingPracticePeople'}).find('span').string)[1:-1] # e.g.: returns 360 instead of (360)\n",
    "        #check whether all the people are loaded in one page\n",
    "        show_more = home_soup.find('div', {'class': 'lookup__search__result__listctrl__btn'})\n",
    "        if show_more is None:\n",
    "            table_rows = home_soup.find('ul', {'class': 'lookup__person__result__list'}).findAll('li')\n",
    "        else:\n",
    "            people_page = s.get(f'https://www.sra.org.uk/consumers/register/organisation/GetPeople/?numberOfResults={num_people}',allow_redirects=True)\n",
    "            people_soup = BeautifulSoup(people_page.content)\n",
    "            table_rows = people_soup.find('ul', {'class': 'lookup__person__result__list'}).findAll('li')\n",
    "        fee_earners, non_fee_earners = count_solicitors(table_rows)\n",
    "        s.close()\n",
    "    \n",
    "    return pd.Series([sra_number, org_name, sra_reg, num_people, fee_earners, non_fee_earners], index=df.columns)"
   ]
  },
  {
   "cell_type": "code",
   "execution_count": null,
   "id": "ef43eab3-1bd3-45ef-8441-23a41f9b5a1c",
   "metadata": {},
   "outputs": [],
   "source": [
    "for i in range(1, 20):\n",
    "    print(i)\n",
    "    try:\n",
    "        df = df.append(get_data_by_sra(df, i), ignore_index=True)\n",
    "        continue\n",
    "df"
   ]
  }
 ],
 "metadata": {
  "kernelspec": {
   "display_name": "Python 3",
   "language": "python",
   "name": "python3"
  },
  "language_info": {
   "codemirror_mode": {
    "name": "ipython",
    "version": 3
   },
   "file_extension": ".py",
   "mimetype": "text/x-python",
   "name": "python",
   "nbconvert_exporter": "python",
   "pygments_lexer": "ipython3",
   "version": "3.9.2"
  }
 },
 "nbformat": 4,
 "nbformat_minor": 5
}
